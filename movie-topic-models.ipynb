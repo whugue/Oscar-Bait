{
 "cells": [
  {
   "cell_type": "markdown",
   "metadata": {},
   "source": [
    "### Are there topical differences between movies values by critics vs. audiences? Can we predict just based on the text of movie reviews?"
   ]
  },
  {
   "cell_type": "code",
   "execution_count": 1,
   "metadata": {
    "collapsed": false
   },
   "outputs": [],
   "source": [
    "import warnings\n",
    "import numpy as np\n",
    "import pandas as pd\n",
    "import seaborn as sns\n",
    "from matplotlib import pyplot as plt\n",
    "%matplotlib inline\n",
    "\n",
    "from sklearn.cross_validation import train_test_split\n",
    "from sklearn.feature_extraction.text import CountVectorizer, TfidfVectorizer \n",
    "from sklearn.linear_model import Ridge, Lasso\n",
    "from sklearn.metrics import mean_squared_error, r2_score\n",
    "\n",
    "pd.set_option(\"display.max_rows\", 500)\n",
    "pd.set_option('display.max_colwidth', -1)\n",
    "\n",
    "warnings.filterwarnings(\"ignore\", category=DeprecationWarning)"
   ]
  },
  {
   "cell_type": "code",
   "execution_count": 4,
   "metadata": {
    "collapsed": false
   },
   "outputs": [
    {
     "name": "stdout",
     "output_type": "stream",
     "text": [
      "(3114, 6)\n"
     ]
    },
    {
     "data": {
      "text/html": [
       "<div>\n",
       "<table border=\"1\" class=\"dataframe\">\n",
       "  <thead>\n",
       "    <tr style=\"text-align: right;\">\n",
       "      <th></th>\n",
       "      <th>imdb_id</th>\n",
       "      <th>title</th>\n",
       "      <th>tomato_meter</th>\n",
       "      <th>tomato_user_meter</th>\n",
       "      <th>plot</th>\n",
       "      <th>rating_diff</th>\n",
       "    </tr>\n",
       "  </thead>\n",
       "  <tbody>\n",
       "    <tr>\n",
       "      <th>0</th>\n",
       "      <td>tt0405422</td>\n",
       "      <td>The 40-Year-Old Virgin</td>\n",
       "      <td>85</td>\n",
       "      <td>84</td>\n",
       "      <td>Goaded by his buddies, a nerdy guy who's never \"done the deed\" only finds the pressure mounting when he meets a single mother.</td>\n",
       "      <td>1</td>\n",
       "    </tr>\n",
       "    <tr>\n",
       "      <th>1</th>\n",
       "      <td>tt0388500</td>\n",
       "      <td>Beauty Shop</td>\n",
       "      <td>37</td>\n",
       "      <td>62</td>\n",
       "      <td>A determined hairstylist (Queen Latifah) competes with her former boss (Kevin Bacon) after opening her own business in Atlanta.</td>\n",
       "      <td>-25</td>\n",
       "    </tr>\n",
       "    <tr>\n",
       "      <th>2</th>\n",
       "      <td>tt0372237</td>\n",
       "      <td>Guess Who</td>\n",
       "      <td>43</td>\n",
       "      <td>49</td>\n",
       "      <td>A sarcastic father (Mac) has plenty to say about his daughter wanting to marry a white boy (Kutcher).</td>\n",
       "      <td>-6</td>\n",
       "    </tr>\n",
       "    <tr>\n",
       "      <th>3</th>\n",
       "      <td>tt0369735</td>\n",
       "      <td>Monster-in-Law</td>\n",
       "      <td>16</td>\n",
       "      <td>55</td>\n",
       "      <td>The love life of Charlotte is reduced to an endless string of disastrous blind dates, until she meets the perfect man, Kevin. Unfortunately, his merciless mother will do anything to destroy their relationship.</td>\n",
       "      <td>-39</td>\n",
       "    </tr>\n",
       "    <tr>\n",
       "      <th>4</th>\n",
       "      <td>tt0267891</td>\n",
       "      <td>The Ringer</td>\n",
       "      <td>40</td>\n",
       "      <td>68</td>\n",
       "      <td>A young guy's only option to erase a really bad debt is to rig the Special Olympics by posing as a contestant.</td>\n",
       "      <td>-28</td>\n",
       "    </tr>\n",
       "  </tbody>\n",
       "</table>\n",
       "</div>"
      ],
      "text/plain": [
       "     imdb_id                   title  tomato_meter  tomato_user_meter  \\\n",
       "0  tt0405422  The 40-Year-Old Virgin  85            84                  \n",
       "1  tt0388500  Beauty Shop             37            62                  \n",
       "2  tt0372237  Guess Who               43            49                  \n",
       "3  tt0369735  Monster-in-Law          16            55                  \n",
       "4  tt0267891  The Ringer              40            68                  \n",
       "\n",
       "                                                                                                                                                                                                                plot  \\\n",
       "0  Goaded by his buddies, a nerdy guy who's never \"done the deed\" only finds the pressure mounting when he meets a single mother.                                                                                      \n",
       "1  A determined hairstylist (Queen Latifah) competes with her former boss (Kevin Bacon) after opening her own business in Atlanta.                                                                                     \n",
       "2  A sarcastic father (Mac) has plenty to say about his daughter wanting to marry a white boy (Kutcher).                                                                                                               \n",
       "3  The love life of Charlotte is reduced to an endless string of disastrous blind dates, until she meets the perfect man, Kevin. Unfortunately, his merciless mother will do anything to destroy their relationship.   \n",
       "4  A young guy's only option to erase a really bad debt is to rig the Special Olympics by posing as a contestant.                                                                                                      \n",
       "\n",
       "   rating_diff  \n",
       "0  1            \n",
       "1 -25           \n",
       "2 -6            \n",
       "3 -39           \n",
       "4 -28           "
      ]
     },
     "execution_count": 4,
     "metadata": {},
     "output_type": "execute_result"
    }
   ],
   "source": [
    "imdb = pd.read_pickle(\"data/movie_data_clean.pickle\")[[\"imdb_id\",\"title\",\"tomato_meter\",\"tomato_user_meter\",\"plot\"]]\n",
    "imdb.dropna(inplace=True) ##Drop Non-Matching Films\n",
    "\n",
    "imdb[\"rating_diff\"] = imdb.tomato_meter - imdb.tomato_user_meter\n",
    "\n",
    "print imdb.shape\n",
    "imdb.head(5)"
   ]
  },
  {
   "cell_type": "code",
   "execution_count": 3,
   "metadata": {
    "collapsed": false
   },
   "outputs": [],
   "source": [
    "def vectorizer():\n",
    "    vect = CountVectorizer(ngram_range=(1,1), min_df=2, max_df=0.2, stop_words=\"english\",\\\n",
    "                           token_pattern=\"\\\\b[a-z][a-z][a-z]+\\\\b\", binary=True)\n",
    "    \n",
    "    vectorizer.fit(corpus)\n",
    "    \n",
    "    return vectorizer"
   ]
  },
  {
   "cell_type": "code",
   "execution_count": null,
   "metadata": {
    "collapsed": true
   },
   "outputs": [],
   "source": []
  },
  {
   "cell_type": "code",
   "execution_count": null,
   "metadata": {
    "collapsed": true
   },
   "outputs": [],
   "source": []
  },
  {
   "cell_type": "code",
   "execution_count": null,
   "metadata": {
    "collapsed": false
   },
   "outputs": [],
   "source": []
  },
  {
   "cell_type": "code",
   "execution_count": null,
   "metadata": {
    "collapsed": true
   },
   "outputs": [],
   "source": []
  }
 ],
 "metadata": {
  "kernelspec": {
   "display_name": "Python 2",
   "language": "python",
   "name": "python2"
  },
  "language_info": {
   "codemirror_mode": {
    "name": "ipython",
    "version": 2
   },
   "file_extension": ".py",
   "mimetype": "text/x-python",
   "name": "python",
   "nbconvert_exporter": "python",
   "pygments_lexer": "ipython2",
   "version": "2.7.10"
  }
 },
 "nbformat": 4,
 "nbformat_minor": 0
}
