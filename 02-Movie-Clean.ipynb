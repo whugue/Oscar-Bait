{
 "cells": [
  {
   "cell_type": "markdown",
   "metadata": {},
   "source": [
    "### 02-Movie-Clean.ipynb\n",
    "* **Script:** 02-Movie-Clean.ipynb\n",
    "* **Purpose:** Clean scraped movie data and engineer features\n",
    "* **Input:** data/movie_data_raw_YYYY.pickle\n",
    "* **Output:** data/movie_data_clean.pickle"
   ]
  },
  {
   "cell_type": "code",
   "execution_count": 1,
   "metadata": {
    "collapsed": true
   },
   "outputs": [],
   "source": [
    "import numpy as np\n",
    "import pandas as pd"
   ]
  },
  {
   "cell_type": "markdown",
   "metadata": {},
   "source": [
    "#### Read in Pickled List of Dicts with movie data from each year, append into a single pandas dataframe"
   ]
  },
  {
   "cell_type": "code",
   "execution_count": 2,
   "metadata": {
    "collapsed": false
   },
   "outputs": [],
   "source": [
    "def create_dataframe(start_year, stop_year):\n",
    "    data=[]\n",
    "    \n",
    "    for yr in range(start_year,(stop_year+1)):\n",
    "        pickle=pd.read_pickle(\"data/movie_data_raw_\"+str(yr)+\".pickle\")\n",
    "        data+=pickle\n",
    "        \n",
    "    df=pd.DataFrame(data)\n",
    "    df=df[(df[\"release_year\"]>=start_year) & (df[\"release_year\"]<=stop_year)]\n",
    "    \n",
    "    return df\n",
    "        \n",
    "df=create_dataframe(2005, 2015)"
   ]
  },
  {
   "cell_type": "code",
   "execution_count": 3,
   "metadata": {
    "collapsed": false
   },
   "outputs": [
    {
     "name": "stdout",
     "output_type": "stream",
     "text": [
      "Number of Records:  6797\n",
      "\n",
      "Data Columns:  Index([u'budget', u'genre', u'imdb_id', u'imdb_rating', u'metascore',\n",
      "       u'oscar_noms', u'oscar_wins', u'plot', u'rating', u'release_date',\n",
      "       u'release_year', u'runtime', u'title', u'tomato_meter',\n",
      "       u'tomato_user_meter'],\n",
      "      dtype='object')\n",
      "\n",
      "<class 'pandas.core.frame.DataFrame'>\n",
      "Int64Index: 6797 entries, 0 to 6873\n",
      "Data columns (total 15 columns):\n",
      "budget               1491 non-null float64\n",
      "genre                6797 non-null object\n",
      "imdb_id              3999 non-null object\n",
      "imdb_rating          3999 non-null object\n",
      "metascore            3999 non-null object\n",
      "oscar_noms           6797 non-null int64\n",
      "oscar_wins           6797 non-null int64\n",
      "plot                 3999 non-null object\n",
      "rating               6797 non-null object\n",
      "release_date         6797 non-null datetime64[ns]\n",
      "release_year         6797 non-null int64\n",
      "runtime              6574 non-null float64\n",
      "title                6797 non-null object\n",
      "tomato_meter         3999 non-null object\n",
      "tomato_user_meter    3999 non-null object\n",
      "dtypes: datetime64[ns](1), float64(2), int64(3), object(9)\n",
      "memory usage: 849.6+ KB\n",
      "None\n",
      "\n"
     ]
    },
    {
     "data": {
      "text/html": [
       "<div>\n",
       "<table border=\"1\" class=\"dataframe\">\n",
       "  <thead>\n",
       "    <tr style=\"text-align: right;\">\n",
       "      <th></th>\n",
       "      <th>budget</th>\n",
       "      <th>genre</th>\n",
       "      <th>imdb_id</th>\n",
       "      <th>imdb_rating</th>\n",
       "      <th>metascore</th>\n",
       "      <th>oscar_noms</th>\n",
       "      <th>oscar_wins</th>\n",
       "      <th>plot</th>\n",
       "      <th>rating</th>\n",
       "      <th>release_date</th>\n",
       "      <th>release_year</th>\n",
       "      <th>runtime</th>\n",
       "      <th>title</th>\n",
       "      <th>tomato_meter</th>\n",
       "      <th>tomato_user_meter</th>\n",
       "    </tr>\n",
       "  </thead>\n",
       "  <tbody>\n",
       "    <tr>\n",
       "      <th>0</th>\n",
       "      <td>26000000</td>\n",
       "      <td>Comedy</td>\n",
       "      <td>tt0405422</td>\n",
       "      <td>7.2</td>\n",
       "      <td>73</td>\n",
       "      <td>0</td>\n",
       "      <td>0</td>\n",
       "      <td>Goaded by his buddies, a nerdy guy who's never...</td>\n",
       "      <td>R</td>\n",
       "      <td>2005-08-19</td>\n",
       "      <td>2005</td>\n",
       "      <td>116</td>\n",
       "      <td>The 40-Year-Old Virgin</td>\n",
       "      <td>85</td>\n",
       "      <td>84</td>\n",
       "    </tr>\n",
       "    <tr>\n",
       "      <th>1</th>\n",
       "      <td>62000000</td>\n",
       "      <td>Sci-Fi Action</td>\n",
       "      <td>tt0402022</td>\n",
       "      <td>5.5</td>\n",
       "      <td>36</td>\n",
       "      <td>0</td>\n",
       "      <td>0</td>\n",
       "      <td>Aeon Flux is a mysterious assassin working for...</td>\n",
       "      <td>PG-13</td>\n",
       "      <td>2005-12-02</td>\n",
       "      <td>2005</td>\n",
       "      <td>95</td>\n",
       "      <td>Aeon Flux</td>\n",
       "      <td>10</td>\n",
       "      <td>39</td>\n",
       "    </tr>\n",
       "    <tr>\n",
       "      <th>2</th>\n",
       "      <td>19000000</td>\n",
       "      <td>Horror</td>\n",
       "      <td>tt0384806</td>\n",
       "      <td>6.0</td>\n",
       "      <td>33</td>\n",
       "      <td>0</td>\n",
       "      <td>0</td>\n",
       "      <td>Newlyweds are terrorized by demonic forces aft...</td>\n",
       "      <td>R</td>\n",
       "      <td>2005-04-15</td>\n",
       "      <td>2005</td>\n",
       "      <td>89</td>\n",
       "      <td>The Amityville Horror</td>\n",
       "      <td>23</td>\n",
       "      <td>52</td>\n",
       "    </tr>\n",
       "    <tr>\n",
       "      <th>3</th>\n",
       "      <td>32000000</td>\n",
       "      <td>Family Comedy</td>\n",
       "      <td>tt0368578</td>\n",
       "      <td>4.5</td>\n",
       "      <td>27</td>\n",
       "      <td>0</td>\n",
       "      <td>0</td>\n",
       "      <td>Nick persons is a rich but selfish player who ...</td>\n",
       "      <td>PG</td>\n",
       "      <td>2005-01-21</td>\n",
       "      <td>2005</td>\n",
       "      <td>94</td>\n",
       "      <td>Are We There Yet?</td>\n",
       "      <td>11</td>\n",
       "      <td>45</td>\n",
       "    </tr>\n",
       "    <tr>\n",
       "      <th>4</th>\n",
       "      <td>35000000</td>\n",
       "      <td>Sports Comedy</td>\n",
       "      <td>tt0408524</td>\n",
       "      <td>5.8</td>\n",
       "      <td>65</td>\n",
       "      <td>0</td>\n",
       "      <td>0</td>\n",
       "      <td>A grizzled little league coach tries to turn h...</td>\n",
       "      <td>PG-13</td>\n",
       "      <td>2005-07-22</td>\n",
       "      <td>2005</td>\n",
       "      <td>111</td>\n",
       "      <td>Bad News Bears</td>\n",
       "      <td>N/A</td>\n",
       "      <td>0</td>\n",
       "    </tr>\n",
       "  </tbody>\n",
       "</table>\n",
       "</div>"
      ],
      "text/plain": [
       "     budget          genre    imdb_id imdb_rating metascore  oscar_noms  \\\n",
       "0  26000000         Comedy  tt0405422         7.2        73           0   \n",
       "1  62000000  Sci-Fi Action  tt0402022         5.5        36           0   \n",
       "2  19000000         Horror  tt0384806         6.0        33           0   \n",
       "3  32000000  Family Comedy  tt0368578         4.5        27           0   \n",
       "4  35000000  Sports Comedy  tt0408524         5.8        65           0   \n",
       "\n",
       "   oscar_wins                                               plot rating  \\\n",
       "0           0  Goaded by his buddies, a nerdy guy who's never...      R   \n",
       "1           0  Aeon Flux is a mysterious assassin working for...  PG-13   \n",
       "2           0  Newlyweds are terrorized by demonic forces aft...      R   \n",
       "3           0  Nick persons is a rich but selfish player who ...     PG   \n",
       "4           0  A grizzled little league coach tries to turn h...  PG-13   \n",
       "\n",
       "  release_date  release_year  runtime                   title tomato_meter  \\\n",
       "0   2005-08-19          2005      116  The 40-Year-Old Virgin           85   \n",
       "1   2005-12-02          2005       95               Aeon Flux           10   \n",
       "2   2005-04-15          2005       89   The Amityville Horror           23   \n",
       "3   2005-01-21          2005       94       Are We There Yet?           11   \n",
       "4   2005-07-22          2005      111          Bad News Bears          N/A   \n",
       "\n",
       "  tomato_user_meter  \n",
       "0                84  \n",
       "1                39  \n",
       "2                52  \n",
       "3                45  \n",
       "4                 0  "
      ]
     },
     "execution_count": 3,
     "metadata": {},
     "output_type": "execute_result"
    }
   ],
   "source": [
    "print \"Number of Records: \", df.shape[0]\n",
    "print \"\"\n",
    "print \"Data Columns: \", df.columns\n",
    "print \"\"\n",
    "print df.info()\n",
    "print \"\"\n",
    "df.head(5)"
   ]
  },
  {
   "cell_type": "markdown",
   "metadata": {},
   "source": [
    "#### Pool Similar Genres into More General Categories (by hand)"
   ]
  },
  {
   "cell_type": "code",
   "execution_count": 4,
   "metadata": {
    "collapsed": false
   },
   "outputs": [
    {
     "name": "stdout",
     "output_type": "stream",
     "text": [
      "Drama                       1394\n",
      "Foreign                     1241\n",
      "Comedy                      1174\n",
      "Documentary                 1121\n",
      "Horror/ Thriller/ Sci-Fi     799\n",
      "Action/ Adventure            437\n",
      "Other                        328\n",
      "Family/ Animation            284\n",
      "NaN                           19\n",
      "Name: genre_group, dtype: int64\n"
     ]
    }
   ],
   "source": [
    "#df[\"genre\"].value_counts().to_csv(\"data/genre_counts.csv\") #Output list of unique genres to csv for hand coding\n",
    "genre_coded=pd.read_csv(\"data/genre_counts_coded.csv\") #Read hand coded list back in\n",
    "df=pd.merge(df, genre_coded, on=\"genre\") #join back onto main DF\n",
    "\n",
    "print df[\"genre_group\"].value_counts(dropna=False)"
   ]
  },
  {
   "cell_type": "markdown",
   "metadata": {},
   "source": [
    "#### Group Ratings into G/PG, PG-13, R/NC17, and Unrated"
   ]
  },
  {
   "cell_type": "code",
   "execution_count": 5,
   "metadata": {
    "collapsed": false
   },
   "outputs": [
    {
     "name": "stdout",
     "output_type": "stream",
     "text": [
      "Unrated    2649\n",
      "R/ NC17    2104\n",
      "PG-13      1360\n",
      "G/ PG       682\n",
      "NaN           2\n",
      "Name: rating, dtype: int64\n"
     ]
    }
   ],
   "source": [
    "df.ix[df[\"rating\"]==\"Unknown\", \"rating\"]=np.nan\n",
    "df.ix[df[\"rating\"].isin([\"G\",\"PG\"]), \"rating\"]=\"G/ PG\"\n",
    "df.ix[df[\"rating\"].isin([\"R\",\"NC-17\"]), \"rating\"]=\"R/ NC17\"\n",
    "\n",
    "print df[\"rating\"].value_counts(dropna=False)"
   ]
  },
  {
   "cell_type": "markdown",
   "metadata": {},
   "source": [
    "#### Clean numeric variables (convert to numeric, set non-numeric entries to NaN)"
   ]
  },
  {
   "cell_type": "code",
   "execution_count": 6,
   "metadata": {
    "collapsed": false
   },
   "outputs": [],
   "source": [
    "def clean_ratings(var):    \n",
    "    df[var]=pd.to_numeric(df[var], errors=\"coerce\")\n",
    "    \n",
    "clean_ratings(\"imdb_rating\")\n",
    "clean_ratings(\"metascore\")\n",
    "clean_ratings(\"tomato_meter\")\n",
    "clean_ratings(\"tomato_user_meter\")"
   ]
  },
  {
   "cell_type": "markdown",
   "metadata": {},
   "source": [
    "#### Create a feature showing which quarter of the year a film was released in"
   ]
  },
  {
   "cell_type": "code",
   "execution_count": 7,
   "metadata": {
    "collapsed": false
   },
   "outputs": [
    {
     "name": "stdout",
     "output_type": "stream",
     "text": [
      "3    1822\n",
      "2    1739\n",
      "4    1722\n",
      "1    1514\n",
      "Name: release_qtr, dtype: int64\n"
     ]
    }
   ],
   "source": [
    "df[\"release_qtr\"]=0\n",
    "df.ix[df[\"release_date\"].dt.month.isin([1,2,3]), \"release_qtr\"]=1\n",
    "df.ix[df[\"release_date\"].dt.month.isin([4,5,6]), \"release_qtr\"]=2\n",
    "df.ix[df[\"release_date\"].dt.month.isin([7,8,9]), \"release_qtr\"]=3\n",
    "df.ix[df[\"release_date\"].dt.month.isin([10,11,12]), \"release_qtr\"]=4\n",
    "\n",
    "print df[\"release_qtr\"].value_counts(dropna=False)"
   ]
  },
  {
   "cell_type": "markdown",
   "metadata": {},
   "source": [
    "#### Clean Production Budget"
   ]
  },
  {
   "cell_type": "code",
   "execution_count": 8,
   "metadata": {
    "collapsed": false
   },
   "outputs": [
    {
     "name": "stdout",
     "output_type": "stream",
     "text": [
      "count      1338.000000\n",
      "mean      38100.590994\n",
      "std       33426.610041\n",
      "min        1884.000000\n",
      "25%       13791.850000\n",
      "50%       27210.000000\n",
      "75%       52945.000000\n",
      "max      141484.000000\n",
      "Name: budget, dtype: float64\n"
     ]
    }
   ],
   "source": [
    "df[\"budget\"]=df.budget/1000 #normalize budget in thousands \n",
    "\n",
    "df.ix[df.budget<1800, \"budget\"]=np.nan #trim lower outliers (roughly bottom 5th percentile)\n",
    "df.ix[df.budget>142000, \"budget\"]=np.nan #trim upper outliers (roughly top 5th percentile)\n",
    "\n",
    "print df[\"budget\"].describe()"
   ]
  },
  {
   "cell_type": "markdown",
   "metadata": {
    "collapsed": false
   },
   "source": [
    "#### Pickle cleaned data for modelling"
   ]
  },
  {
   "cell_type": "code",
   "execution_count": 9,
   "metadata": {
    "collapsed": false
   },
   "outputs": [],
   "source": [
    "df.to_pickle(\"data/movie_data_clean.pickle\")"
   ]
  },
  {
   "cell_type": "code",
   "execution_count": null,
   "metadata": {
    "collapsed": true
   },
   "outputs": [],
   "source": []
  },
  {
   "cell_type": "code",
   "execution_count": null,
   "metadata": {
    "collapsed": true
   },
   "outputs": [],
   "source": []
  }
 ],
 "metadata": {
  "kernelspec": {
   "display_name": "Python 2",
   "language": "python",
   "name": "python2"
  },
  "language_info": {
   "codemirror_mode": {
    "name": "ipython",
    "version": 2
   },
   "file_extension": ".py",
   "mimetype": "text/x-python",
   "name": "python",
   "nbconvert_exporter": "python",
   "pygments_lexer": "ipython2",
   "version": "2.7.10"
  }
 },
 "nbformat": 4,
 "nbformat_minor": 0
}
